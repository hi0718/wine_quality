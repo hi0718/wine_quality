{
  "nbformat": 4,
  "nbformat_minor": 0,
  "metadata": {
    "kernelspec": {
      "name": "python3",
      "display_name": "Python 3"
    },
    "language_info": {
      "codemirror_mode": {
        "name": "ipython",
        "version": 3
      },
      "file_extension": ".py",
      "mimetype": "text/x-python",
      "name": "python",
      "nbconvert_exporter": "python",
      "pygments_lexer": "ipython3",
      "version": "3.6.4"
    },
    "colab": {
      "name": "wine.ipynb",
      "provenance": [],
      "private_outputs": true,
      "collapsed_sections": []
    },
    "accelerator": "GPU"
  },
  "cells": [
    {
      "cell_type": "code",
      "metadata": {
        "id": "p6wZokdbWwIc",
        "colab_type": "code",
        "colab": {}
      },
      "source": [
        "# Classification by Wine Type\n",
        "\n",
        "%matplotlib inline\n",
        "\n",
        "import matplotlib.pyplot as plt\n",
        "import numpy as np\n",
        "import pandas as pd\n",
        "import seaborn as sns"
      ],
      "execution_count": 0,
      "outputs": []
    },
    {
      "cell_type": "code",
      "metadata": {
        "id": "qOVc8jz_WwIf",
        "colab_type": "code",
        "colab": {}
      },
      "source": [
        "red_wine = pd.read_csv('./winequality-red.csv')\n",
        "white_wine = pd.read_csv('./winequality-white.csv', sep=';')"
      ],
      "execution_count": 0,
      "outputs": []
    },
    {
      "cell_type": "code",
      "metadata": {
        "id": "g7t-GE8mWwIi",
        "colab_type": "code",
        "colab": {}
      },
      "source": [
        "white_wine.head()"
      ],
      "execution_count": 0,
      "outputs": []
    },
    {
      "cell_type": "code",
      "metadata": {
        "id": "JbwteX2fWwIl",
        "colab_type": "code",
        "colab": {}
      },
      "source": [
        "red_wine.head()"
      ],
      "execution_count": 0,
      "outputs": []
    },
    {
      "cell_type": "code",
      "metadata": {
        "id": "LGSgTM9iWwIo",
        "colab_type": "code",
        "colab": {}
      },
      "source": [
        "# quality scores\n",
        "def plot_quality_scores(df, kind):\n",
        "    ax = df.quality.value_counts().sort_index(\n",
        "        ascending=False\n",
        "    ).plot.barh(title=f'{kind.title()} Wine Quality Scores', figsize=(12, 3))\n",
        "    for bar in ax.patches:\n",
        "        ax.text(\n",
        "            bar.get_width(), \n",
        "            bar.get_y() + bar.get_height()/4, \n",
        "            f'{bar.get_width()/df.shape[0]:.1%}'\n",
        "        )\n",
        "    plt.xlabel('count of wines')\n",
        "    plt.ylabel('quality score')\n",
        "\n",
        "plot_quality_scores(white_wine, \"white\")"
      ],
      "execution_count": 0,
      "outputs": []
    },
    {
      "cell_type": "code",
      "metadata": {
        "id": "iiNSHasfWwIq",
        "colab_type": "code",
        "colab": {}
      },
      "source": [
        "plot_quality_scores(red_wine, \"red\")"
      ],
      "execution_count": 0,
      "outputs": []
    },
    {
      "cell_type": "code",
      "metadata": {
        "id": "MMAmfmhrWwIs",
        "colab_type": "code",
        "colab": {}
      },
      "source": [
        "# Combining red and white wine data\n",
        "wine = pd.concat([\n",
        "    white_wine.assign(kind='white'), red_wine.assign(kind='red')\n",
        "])\n",
        "wine.sample(5, random_state=10)"
      ],
      "execution_count": 0,
      "outputs": []
    },
    {
      "cell_type": "code",
      "metadata": {
        "id": "DKO9HMxlWwIv",
        "colab_type": "code",
        "colab": {}
      },
      "source": [
        "wine.info()"
      ],
      "execution_count": 0,
      "outputs": []
    },
    {
      "cell_type": "code",
      "metadata": {
        "id": "9Hn81Gj8WwIx",
        "colab_type": "code",
        "colab": {}
      },
      "source": [
        "wine.kind.value_counts()"
      ],
      "execution_count": 0,
      "outputs": []
    },
    {
      "cell_type": "code",
      "metadata": {
        "id": "rh26xmDJWwIy",
        "colab_type": "code",
        "colab": {}
      },
      "source": [
        "wine.drop(columns='quality').groupby('kind').describe()"
      ],
      "execution_count": 0,
      "outputs": []
    },
    {
      "cell_type": "code",
      "metadata": {
        "id": "HpKLN2_YWwI1",
        "colab_type": "code",
        "colab": {}
      },
      "source": [
        "# How do chemical properties of the wine correlate to each other and the wine type?\n",
        "fig = plt.figure(figsize=(7, 7))\n",
        "sns.heatmap(\n",
        "    wine.drop(columns='quality').assign(\n",
        "        is_red=lambda x: np.where(x.kind=='red', 1, 0)\n",
        "    ).corr(), center=True, square=True, annot=True, fmt='.1g'\n",
        ")"
      ],
      "execution_count": 0,
      "outputs": []
    },
    {
      "cell_type": "code",
      "metadata": {
        "id": "FE4w2-m9WwI4",
        "colab_type": "code",
        "colab": {}
      },
      "source": [
        "# Comparison of Red and White Wines by Their Chemical Properties\n",
        "\n",
        "import math\n",
        "\n",
        "chemical_properties = [col for col in wine.columns if col not in ['quality', 'kind']]\n",
        "melted = wine.drop(columns='quality').melt(id_vars=['kind'])\n",
        "\n",
        "fig, axes = plt.subplots(math.ceil(len(chemical_properties) / 4), 4, figsize=(20, 10))\n",
        "axes = axes.flatten()\n",
        "\n",
        "for prop, ax in zip(chemical_properties, axes):\n",
        "    sns.boxplot(\n",
        "        data=melted[melted.variable.isin([prop])], \n",
        "        x='variable', y='value', hue='kind', ax=ax\n",
        "    )\n",
        "    \n",
        "# remove the extra subplots\n",
        "for ax in axes[len(chemical_properties):]:\n",
        "    ax.remove()\n",
        "    \n",
        "plt.suptitle('Comparing Chemical Properties of Red and White Wines')"
      ],
      "execution_count": 0,
      "outputs": []
    },
    {
      "cell_type": "code",
      "metadata": {
        "id": "di6gjy5HWwI6",
        "colab_type": "code",
        "colab": {}
      },
      "source": [
        "# Classification of Red and White Wines\n",
        "from sklearn.linear_model import LogisticRegression\n",
        "from sklearn.model_selection import train_test_split\n",
        "from sklearn.pipeline import Pipeline\n",
        "from sklearn.preprocessing import StandardScaler\n",
        "\n",
        "wine_y = np.where(wine.kind == 'red', 1, 0)\n",
        "wine_X = wine.drop(columns=['quality', 'kind'])\n",
        "\n",
        "w_X_train, w_X_test, w_y_train, w_y_test = train_test_split(\n",
        "    wine_X, wine_y, test_size=0.25, random_state=0, stratify=wine_y\n",
        ")\n",
        "\n",
        "white_or_red = Pipeline([\n",
        "    ('scale', StandardScaler()), ('lr', LogisticRegression(solver='lbfgs', random_state=0))\n",
        "]).fit(w_X_train, w_y_train)"
      ],
      "execution_count": 0,
      "outputs": []
    },
    {
      "cell_type": "code",
      "metadata": {
        "id": "rl0eLrJRWwI8",
        "colab_type": "code",
        "colab": {}
      },
      "source": [
        "kind_preds = white_or_red.predict(w_X_test)"
      ],
      "execution_count": 0,
      "outputs": []
    },
    {
      "cell_type": "code",
      "metadata": {
        "id": "Jo74l0ZSWwI-",
        "colab_type": "code",
        "colab": {}
      },
      "source": [
        "from sklearn.metrics import classification_report\n",
        "print(classification_report(w_y_test, kind_preds))"
      ],
      "execution_count": 0,
      "outputs": []
    },
    {
      "cell_type": "code",
      "metadata": {
        "id": "U1flfsnXWwJA",
        "colab_type": "code",
        "colab": {}
      },
      "source": [
        "from utils import plot_roc\n",
        "\n",
        "plot_roc(w_y_test, kind_preds)"
      ],
      "execution_count": 0,
      "outputs": []
    },
    {
      "cell_type": "code",
      "metadata": {
        "id": "YGXGKDNNWwJC",
        "colab_type": "code",
        "colab": {}
      },
      "source": [
        "from utils import confusion_matrix_visual\n",
        "\n",
        "confusion_matrix_visual(w_y_test, kind_preds, ['white', 'red'])"
      ],
      "execution_count": 0,
      "outputs": []
    }
  ]
}